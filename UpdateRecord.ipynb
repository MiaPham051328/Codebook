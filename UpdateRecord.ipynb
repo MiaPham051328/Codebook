{
    "metadata": {
        "kernelspec": {
            "name": "SQL",
            "display_name": "SQL",
            "language": "sql"
        },
        "language_info": {
            "name": "sql",
            "version": ""
        }
    },
    "nbformat_minor": 2,
    "nbformat": 4,
    "cells": [
        {
            "cell_type": "markdown",
            "source": [
                "# Update Record"
            ],
            "metadata": {
                "azdata_cell_guid": "cb396625-9f70-489c-9222-c3113c7e594e"
            },
            "attachments": {}
        },
        {
            "cell_type": "markdown",
            "source": [
                "``` sql\n",
                "UPDATE mytable\n",
                "\n",
                "SET column = value_or_expr, \n",
                "\n",
                "    other_column = another_value_or_expr, \n",
                "\n",
                "    …\n",
                "\n",
                "WHERE condition;\n",
                "```"
            ],
            "metadata": {
                "azdata_cell_guid": "5e2ee71e-6262-4812-a9b4-cb0b13da7c86"
            },
            "attachments": {}
        },
        {
            "cell_type": "markdown",
            "source": [
                "This is from the SQLBolt exercises [SQLBolt.com](ttps://sqlbolt.com/) \n",
                "\n",
                "```\n",
                "UPDATE Movies\n",
                "\n",
                "SET Director = 'John Lasseter'\n",
                "\n",
                "WHERE Title = 'A Bug's Life';\n",
                "\n",
                "```"
            ],
            "metadata": {
                "azdata_cell_guid": "620be1c6-1ece-450e-94fa-23f7b7915d93"
            },
            "attachments": {}
        },
        {
            "cell_type": "code",
            "source": [
                "UPDATE Movies\r\n",
                "\r\n",
                "SET Director = 'John Lasseter'\r\n",
                "\r\n",
                "WHERE Title = 'A Bug's Life';"
            ],
            "metadata": {
                "azdata_cell_guid": "2632cffc-5208-4f4f-9ac5-3b7ed53f6888",
                "language": "sql"
            },
            "outputs": [],
            "execution_count": null
        }
    ]
}